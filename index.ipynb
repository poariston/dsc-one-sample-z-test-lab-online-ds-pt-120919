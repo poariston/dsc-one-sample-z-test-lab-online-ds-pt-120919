{
 "cells": [
  {
   "cell_type": "markdown",
   "metadata": {},
   "source": [
    "# One-Sample z-test - Lab\n",
    "\n",
    "## Introduction\n",
    "In this lab, you'll perform a few quick tests to help you better understand how hypothesis testing works.\n",
    "\n",
    "## Objectives\n",
    "You will be able to:\n",
    "\n",
    "* Explain use cases for a 1-sample z-test\n",
    "* Set up null and alternative hypotheses\n",
    "* Use the z-table and scipy methods to acquire the p value for a given z-score\n",
    "* Calculate and interpret p-value for significance of results\n",
    "\n",
    "## Exercise 1\n",
    "A fast-food chain claims that the mean time to order food at their restaurants is 60 seconds, with a standard deviation of 30 seconds. You decide to put this claim to the test and go to one of the restaurants to observe actual waiting times. You take a sample of 36 customers and find that the mean order time was 75 seconds. Does this finding provide enough evidence to contradict the fast food chain's claim of fast service?\n",
    "\n",
    "Follow the 5 steps shown in previous lesson and use $\\alpha$ = 0.05. "
   ]
  },
  {
   "cell_type": "code",
   "execution_count": 5,
   "metadata": {},
   "outputs": [],
   "source": [
    "# State your null and alternative hypotheses\n",
    "\n",
    "# H0 null hypothesis: mean <= 60sec\n",
    "# HA Alternative hypothesis: mean > 60 sec.\n",
    "\n",
    "# this is a right  tail z-sample test"
   ]
  },
  {
   "cell_type": "code",
   "execution_count": 7,
   "metadata": {},
   "outputs": [
    {
     "data": {
      "text/plain": [
       "(0.0013498980316301035, 3.0)"
      ]
     },
     "execution_count": 7,
     "metadata": {},
     "output_type": "execute_result"
    }
   ],
   "source": [
    "# Your solution here\n",
    "\n",
    "# calculating z-statistic and p-value\n",
    "\n",
    "import math\n",
    "import scipy.stats as stats\n",
    "\n",
    "mu = 60      #  = population mean under Null hypothesis\n",
    "sigma = 30   #  = population standard deviation (under Null hypothesis?)\n",
    "n = 36       #  = sample size\n",
    "x_bar = 75   #  = sample mean\n",
    "\n",
    "z = (x_bar-mu) / (sigma/math.sqrt(n))\n",
    "\n",
    "p = 1-stats.norm.cdf(z)\n",
    "\n",
    "p,z\n",
    "# (p = 0.0013498980316301035, z = 3.0)"
   ]
  },
  {
   "cell_type": "code",
   "execution_count": 10,
   "metadata": {},
   "outputs": [
    {
     "data": {
      "image/png": "[encoded data removed]",
      "text/plain": [
       "<Figure size 576x396 with 1 Axes>"
      ]
     },
     "metadata": {},
     "output_type": "display_data"
    }
   ],
   "source": [
    "import  numpy as np\n",
    "import matplotlib.pyplot as plt\n",
    "%matplotlib inline\n",
    "\n",
    "plt.style.use('seaborn')\n",
    "plt.fill_between(x=np.arange(-4,3,0.01),\n",
    "                y1= stats.norm.pdf(np.arange(-4,3,0.01)),\n",
    "                facecolor='red',\n",
    "                alpha=.35,\n",
    "                label = 'Area below z-statisitic')\n",
    "plt.fill_between(x=np.arange(3,4,0.01),\n",
    "                y1= stats.norm.pdf(np.arange(3,4,0.01)),\n",
    "                facecolor='blue',\n",
    "                alpha=.35,\n",
    "                label = 'Area above z-statisitic')\n",
    "plt.legend()\n",
    "plt.title('z-statistic =3')\n",
    "plt.show()\n"
   ]
  },
  {
   "cell_type": "code",
   "execution_count": 2,
   "metadata": {},
   "outputs": [],
   "source": [
    "# Interpret the results in terms of the p-value\n",
    "\n",
    "# p-value = 0.1% < 5%.\n",
    "# The sample mean is significantly different from the poulation mean (under H0) with a 5% significance treshold.\n",
    "# So we can reject the H0 and accept HA."
   ]
  },
  {
   "cell_type": "markdown",
   "metadata": {},
   "source": [
    "## Exercise 2\n",
    "\n",
    "25 students complete a preparation program for taking the SAT test.  Here are the SAT scores from the 25 students who completed the program:\n",
    "\n",
    "``\n",
    "434 694 457 534 720 400 484 478 610 641 425 636 454 \n",
    "514 563 370 499 640 501 625 612 471 598 509 531\n",
    "``\n",
    "\n",
    "We know that the population average for SAT scores is 500 with a standard deviation of 100.\n",
    "\n",
    "Are our 25 students’ SAT scores significantly higher than the population's mean score? \n",
    "\n",
    "*Note that the SAT preparation program claims that it will increase (and not decrease) the SAT score.  So, you can conduct a one-directional test. (alpha = .05).*"
   ]
  },
  {
   "cell_type": "code",
   "execution_count": null,
   "metadata": {},
   "outputs": [],
   "source": [
    "# State your hypotheses \n",
    "# H0 Sample test mean is not significantly higher than population mean. SAT prep has no positive effect on SAT score\n",
    "# ie x_bar <= mu_zero\n",
    "# HA Sample test mean is  significantly higher than population mean. SAT prep has  positive effect on SAT score\n",
    "# ie x_bar > mu_zero"
   ]
  },
  {
   "cell_type": "code",
   "execution_count": 29,
   "metadata": {},
   "outputs": [
    {
     "data": {
      "text/plain": [
       "(0.03593031911292577, 1.8)"
      ]
     },
     "execution_count": 29,
     "metadata": {},
     "output_type": "execute_result"
    }
   ],
   "source": [
    "# Give your solution here \n",
    "# calculate z-statistic and p-value\n",
    "import numpy as np\n",
    "import math as math\n",
    "import scipy.stats as stats\n",
    "\n",
    "x_bar=np.array([434, 694, 457, 534, 720, 400, 484, 478, 610, 641, 425, 636, 454, \n",
    "          514, 563, 370, 499, 640, 501, 625, 612, 471, 598, 509, 531]).mean()\n",
    "mu_zero= 500\n",
    "sigma=100\n",
    "n = 25\n",
    "\n",
    "z_stat = (x_bar - mu_zero) / (sigma/math.sqrt(n))\n",
    "\n",
    "\n",
    "# p_val= probability of values above z_stat assuming standard normal distribution\n",
    "p_val = 1 - stats.norm.cdf(z_stat)\n",
    "p_val,z_stat\n",
    "\n",
    "# p = 0.03593031911292577, z = 1.8"
   ]
  },
  {
   "cell_type": "code",
   "execution_count": 20,
   "metadata": {},
   "outputs": [],
   "source": [
    "# Interpret the results in terms of the p-value\n",
    "# p_val = 3.5% < 5%\n",
    "# The sample mean is significantly higher than the population mean under H0. \n",
    "# So we can reject H0 and accept HA: SAT prep has  positive effect on SAT score (at a significance level of 5%)\n",
    "    "
   ]
  },
  {
   "cell_type": "markdown",
   "metadata": {},
   "source": [
    "## Summary\n",
    "\n",
    "In this lesson, you conducted a couple of simple tests comparing sample and population means, in an attempt to reject our null hypotheses. This provides you with a strong foundation to move ahead with more advanced tests and approaches later on."
   ]
  }
 ],
 "metadata": {
  "kernelspec": {
   "display_name": "Python 3",
   "language": "python",
   "name": "python3"
  },
  "language_info": {
   "codemirror_mode": {
    "name": "ipython",
    "version": 3
   },
   "file_extension": ".py",
   "mimetype": "text/x-python",
   "name": "python",
   "nbconvert_exporter": "python",
   "pygments_lexer": "ipython3",
   "version": "3.6.9"
  },
  "toc": {
   "base_numbering": 1,
   "nav_menu": {},
   "number_sections": true,
   "sideBar": true,
   "skip_h1_title": false,
   "title_cell": "Table of Contents",
   "title_sidebar": "Contents",
   "toc_cell": false,
   "toc_position": {},
   "toc_section_display": true,
   "toc_window_display": false
  }
 },
 "nbformat": 4,
 "nbformat_minor": 2
}
